{
 "cells": [
  {
   "attachments": {},
   "cell_type": "markdown",
   "metadata": {},
   "source": [
    "# Colorado Elk Data Processing"
   ]
  },
  {
   "attachments": {},
   "cell_type": "markdown",
   "metadata": {},
   "source": [
    "# Packages"
   ]
  },
  {
   "cell_type": "code",
   "execution_count": 2,
   "metadata": {},
   "outputs": [],
   "source": [
    "import pandas as pd\n",
    "import os"
   ]
  },
  {
   "attachments": {},
   "cell_type": "markdown",
   "metadata": {},
   "source": [
    "# Consoliate All Applicant Data"
   ]
  },
  {
   "cell_type": "code",
   "execution_count": 15,
   "metadata": {},
   "outputs": [],
   "source": [
    "directory = 'Input-Data\\\\Applicant-Data\\\\'\n",
    "\n",
    "All_Applicants = pd.DataFrame()\n",
    "\n",
    "for file in os.listdir(directory):\n",
    "    filename = os.fsdecode(file)\n",
    "    if (filename.endswith(\".xlsx\")):\n",
    "        df_Applicants = pd.read_excel(directory+file)\n",
    "        All_Applicants = pd.concat([All_Applicants,df_Applicants])\n",
    "        continue\n",
    "    else:\n",
    "        continue\n",
    "\n",
    "del All_Applicants[All_Applicants.columns[0]]\n",
    "\n",
    "All_Applicants['Secondary Key'] = [str(x) + \"-\" + y for x,y in zip(All_Applicants['Year'],All_Applicants['Hunt Code'])]\n",
    "\n",
    "All_Applicants.to_excel('Output-Data\\\\All-Applicant-Preference_Points.xlsx')\n",
    "\n",
    "# Import Applicant Data\n",
    "Applicant_Data = pd.read_excel('Output-Data//All-Applicant-Preference_Points.xlsx')"
   ]
  },
  {
   "attachments": {},
   "cell_type": "markdown",
   "metadata": {},
   "source": [
    "# Consolidate All Draw Data"
   ]
  },
  {
   "cell_type": "code",
   "execution_count": 14,
   "metadata": {},
   "outputs": [],
   "source": [
    "directory = 'Input-Data\\\\Draw-Data\\\\'\n",
    "\n",
    "All_Draw = pd.DataFrame()\n",
    "\n",
    "for file in os.listdir(directory):\n",
    "    filename = os.fsdecode(file)\n",
    "    if (filename.endswith(\".xlsx\")):\n",
    "        df_Draw = pd.read_excel(directory+file)\n",
    "        All_Draw = pd.concat([All_Draw,df_Draw])\n",
    "        continue\n",
    "    else:\n",
    "        continue\n",
    "\n",
    "del All_Draw[All_Draw.columns[0]]\n",
    "\n",
    "All_Draw['Secondary Key'] = [str(x) + \"-\" + y for x,y in zip(All_Draw['Year'],All_Draw['Hunt Code'])]\n",
    "\n",
    "All_Draw.to_excel('Output-Data\\\\All-Draw-Preference_Points.xlsx')\n",
    "\n",
    "# Import Draw Data\n",
    "Draw_Data = pd.read_excel('Output-Data//All-Draw-Preference_Points.xlsx')"
   ]
  },
  {
   "attachments": {},
   "cell_type": "markdown",
   "metadata": {},
   "source": [
    "# Total Tags Awarded"
   ]
  },
  {
   "cell_type": "code",
   "execution_count": 16,
   "metadata": {},
   "outputs": [],
   "source": [
    "#Isolate output for final join\n",
    "Awarded_Final_Join = Draw_Data[['Hunt Code','Year','Secondary Key']].drop_duplicates('Secondary Key')\n",
    "\n",
    "def TotalAwarded(InputColumnName,OutputColumnName):\n",
    "    #Isolate columns of interest\n",
    "    df_1 = Draw_Data[[InputColumnName,'Secondary Key']].copy()\n",
    "\n",
    "    #Obtain the weighted total and number of tags issued\n",
    "    df_2 = df_1.groupby('Secondary Key')[InputColumnName].sum().reset_index().copy()\n",
    "\n",
    "    #Rename to Output Column\n",
    "    df_3 = df_2.rename(columns={InputColumnName:OutputColumnName})\n",
    "\n",
    "    #Isolate columns of interest\n",
    "    OutputDF = df_3[['Secondary Key',OutputColumnName]]\n",
    "\n",
    "    # Return the output dataframe\n",
    "    return OutputDF\n",
    "\n",
    "# Call functions to find the total number of tags awarded of each classification\n",
    "Award_Adult_Res = TotalAwarded('D-Adult-Res','Adult-Res Awarded')\n",
    "Award_Adult_NonRes = TotalAwarded('D-Adult-NonRes','Adult-NonRes Awarded')\n",
    "Award_Youth_Res = TotalAwarded('D-Youth-Res','Youth-Res Awarded')\n",
    "Award_Youth_NonRes = TotalAwarded('D-Youth-NonRes','Youth-NonRes Awarded')\n",
    "Award_LPP_U = TotalAwarded('D-Landowner(LPP)-Unrestricted','LPP_U Awarded')\n",
    "Award_LPP_R = TotalAwarded('D-Landownder(LPP)-Restricted','LPP_R Awarded')\n",
    "\n",
    "\n",
    "#Merge All together\n",
    "Output_Awarded = Awarded_Final_Join.merge(Award_Adult_Res, on='Secondary Key',how='left'\\\n",
    "    ).merge(Award_Adult_NonRes, on='Secondary Key',how='left'\n",
    "    ).merge(Award_Youth_Res, on='Secondary Key',how='left'\n",
    "    ).merge(Award_Youth_NonRes, on='Secondary Key',how='left'\n",
    "    ).merge(Award_LPP_U, on='Secondary Key',how='left'\n",
    "    ).merge(Award_LPP_R, on='Secondary Key',how='left')\n",
    "\n",
    "#Sort by Hunt Code and Year, then reset index\n",
    "Output_Awarded.sort_values(by=['Hunt Code','Year'],ascending=True,inplace=True)\n",
    "Output_Awarded.reset_index(inplace=True,drop=True)\n",
    "\n",
    "#Total number of Applicants\n",
    "Output_Awarded['Total Awarded'] = [\\\n",
    "    a+b+c+d+e+f for a,b,c,d,e,f in zip(Output_Awarded['Adult-Res Awarded']\n",
    "    ,Output_Awarded['Adult-NonRes Awarded'],Output_Awarded['Youth-Res Awarded']\n",
    "    ,Output_Awarded['Youth-NonRes Awarded'],Output_Awarded['LPP_U Awarded']\n",
    "    ,Output_Awarded['LPP_R Awarded'])]\n",
    "\n",
    "#Output to Excel\n",
    "Output_Awarded.to_excel('Output-Data\\\\Number-Awarded.xlsx')"
   ]
  },
  {
   "attachments": {},
   "cell_type": "markdown",
   "metadata": {},
   "source": [
    "# Total Applicants"
   ]
  },
  {
   "cell_type": "code",
   "execution_count": 17,
   "metadata": {},
   "outputs": [],
   "source": [
    "#Isolate output for final join\n",
    "Applicants_Final_Join = Applicant_Data[['Hunt Code','Year','Secondary Key']].drop_duplicates('Secondary Key')\n",
    "\n",
    "def TotalApplicants(InputColumnName,OutputColumnName):\n",
    "    #Isolate columns of interest\n",
    "    df_1 = Applicant_Data[[InputColumnName,'Secondary Key']].copy()\n",
    "\n",
    "    #Obtain the weighted total and number of tags issued\n",
    "    df_2 = df_1.groupby('Secondary Key')[InputColumnName].sum().reset_index().copy()\n",
    "\n",
    "    #Rename to Output Column\n",
    "    df_3 = df_2.rename(columns={InputColumnName:OutputColumnName})\n",
    "\n",
    "    #Isolate columns of interest\n",
    "    OutputDF = df_3[['Secondary Key',OutputColumnName]]\n",
    "\n",
    "    # Return the output dataframe\n",
    "    return OutputDF\n",
    "\n",
    "# Call functions to find the weighted average of each classification\n",
    "App_Adult_Res = TotalApplicants('A-Adult-Res','Adult-Res Applicants')\n",
    "App_Adult_NonRes = TotalApplicants('A-Adult-NonRes','Adult-NonRes Applicants')\n",
    "App_Youth_Res = TotalApplicants('A-Youth-Res','Youth-Res Applicants')\n",
    "App_Youth_NonRes = TotalApplicants('A-Youth-NonRes','Youth-NonRes Applicants')\n",
    "App_LPP_U = TotalApplicants('A-Landowner(LPP)-Unrestricted','LPP_U Applicants')\n",
    "App_LPP_R = TotalApplicants('A-Landownder(LPP)-Restricted','LPP_R Applicants')\n",
    "\n",
    "\n",
    "#Merge All together\n",
    "Output_Applicants = Applicants_Final_Join.merge(App_Adult_Res, on='Secondary Key',how='left'\\\n",
    "    ).merge(App_Adult_NonRes, on='Secondary Key',how='left'\n",
    "    ).merge(App_Youth_Res, on='Secondary Key',how='left'\n",
    "    ).merge(App_Youth_NonRes, on='Secondary Key',how='left'\n",
    "    ).merge(App_LPP_U, on='Secondary Key',how='left'\n",
    "    ).merge(App_LPP_R, on='Secondary Key',how='left')\n",
    "\n",
    "#Sort by Hunt Code and Year, then reset index\n",
    "Output_Applicants.sort_values(by=['Hunt Code','Year'],ascending=True,inplace=True)\n",
    "Output_Applicants.reset_index(inplace=True,drop=True)\n",
    "\n",
    "#Total number of Applicants\n",
    "Output_Applicants['Total Applicants'] = [\\\n",
    "    a+b+c+d+e+f for a,b,c,d,e,f in zip(Output_Applicants['Adult-Res Applicants']\n",
    "    ,Output_Applicants['Adult-NonRes Applicants'],Output_Applicants['Youth-Res Applicants']\n",
    "    ,Output_Applicants['Youth-NonRes Applicants'],Output_Applicants['LPP_U Applicants']\n",
    "    ,Output_Applicants['LPP_R Applicants'])]\n",
    "\n",
    "#Output to Excel\n",
    "Output_Applicants.to_excel('Output-Data\\\\Number-Of-Applicants.xlsx')"
   ]
  },
  {
   "attachments": {},
   "cell_type": "markdown",
   "metadata": {},
   "source": [
    "# Average Preference Points"
   ]
  },
  {
   "cell_type": "code",
   "execution_count": 18,
   "metadata": {},
   "outputs": [
    {
     "name": "stderr",
     "output_type": "stream",
     "text": [
      "C:\\Users\\clanc\\AppData\\Local\\Temp\\ipykernel_13988\\2502123941.py:13: FutureWarning: Indexing with multiple keys (implicitly converted to a tuple of keys) will be deprecated, use a list instead.\n",
      "  df_2 = df_1.groupby('Secondary Key')['Weighted Total',InputColumnName].sum().reset_index().copy()\n",
      "C:\\Users\\clanc\\AppData\\Local\\Temp\\ipykernel_13988\\2502123941.py:13: FutureWarning: Indexing with multiple keys (implicitly converted to a tuple of keys) will be deprecated, use a list instead.\n",
      "  df_2 = df_1.groupby('Secondary Key')['Weighted Total',InputColumnName].sum().reset_index().copy()\n",
      "C:\\Users\\clanc\\AppData\\Local\\Temp\\ipykernel_13988\\2502123941.py:13: FutureWarning: Indexing with multiple keys (implicitly converted to a tuple of keys) will be deprecated, use a list instead.\n",
      "  df_2 = df_1.groupby('Secondary Key')['Weighted Total',InputColumnName].sum().reset_index().copy()\n",
      "C:\\Users\\clanc\\AppData\\Local\\Temp\\ipykernel_13988\\2502123941.py:13: FutureWarning: Indexing with multiple keys (implicitly converted to a tuple of keys) will be deprecated, use a list instead.\n",
      "  df_2 = df_1.groupby('Secondary Key')['Weighted Total',InputColumnName].sum().reset_index().copy()\n",
      "C:\\Users\\clanc\\AppData\\Local\\Temp\\ipykernel_13988\\2502123941.py:13: FutureWarning: Indexing with multiple keys (implicitly converted to a tuple of keys) will be deprecated, use a list instead.\n",
      "  df_2 = df_1.groupby('Secondary Key')['Weighted Total',InputColumnName].sum().reset_index().copy()\n",
      "C:\\Users\\clanc\\AppData\\Local\\Temp\\ipykernel_13988\\2502123941.py:13: FutureWarning: Indexing with multiple keys (implicitly converted to a tuple of keys) will be deprecated, use a list instead.\n",
      "  df_2 = df_1.groupby('Secondary Key')['Weighted Total',InputColumnName].sum().reset_index().copy()\n"
     ]
    }
   ],
   "source": [
    "#Isolate output for final join\n",
    "Average_PP_1 = Draw_Data[['Hunt Code','Year','Secondary Key']].drop_duplicates('Secondary Key')\n",
    "\n",
    "\n",
    "def WeightedAverage(InputColumnName,OutputColumnName):\n",
    "    #Isolate columns of interest\n",
    "    df_1 = Draw_Data[['Preference Points',InputColumnName,'Secondary Key']].copy()\n",
    "\n",
    "    #Find the weighted average\n",
    "    df_1['Weighted Total'] = df_1['Preference Points'] * df_1[InputColumnName]\n",
    "\n",
    "    #Obtain the weighted total and number of tags issued\n",
    "    df_2 = df_1.groupby('Secondary Key')['Weighted Total',InputColumnName].sum().reset_index().copy()\n",
    "\n",
    "    #Determine the weighted average\n",
    "    df_2[OutputColumnName] = df_2['Weighted Total'] / df_2[InputColumnName]\n",
    "\n",
    "    #Isolate columns of interest\n",
    "    OutputDF = df_2[['Secondary Key',OutputColumnName]]\n",
    "\n",
    "    # Return the output dataframe\n",
    "    return OutputDF\n",
    "\n",
    "# Call functions to find the weighted average of each classification\n",
    "AvgPP_Adult_Res = WeightedAverage('D-Adult-Res','Adult-Res Average')\n",
    "AvgPP_Adult_NonRes = WeightedAverage('D-Adult-NonRes','Adult-NonRes Average')\n",
    "AvgPP_Youth_Res = WeightedAverage('D-Youth-Res','Youth-Res Average')\n",
    "AvgPP_Youth_NonRes = WeightedAverage('D-Youth-NonRes','Youth-NonRes Average')\n",
    "AvgPP_LPP_U = WeightedAverage('D-Landowner(LPP)-Unrestricted','LPP_U Average')\n",
    "AvgPP_LPP_R = WeightedAverage('D-Landownder(LPP)-Restricted','LPP_R Average')\n",
    "\n",
    "\n",
    "#Merge the Adult Residents\n",
    "Average_PP_2 = Average_PP_1.merge(AvgPP_Adult_Res, on='Secondary Key',how='left'\\\n",
    "    ).merge(AvgPP_Adult_NonRes, on='Secondary Key',how='left'\n",
    "    ).merge(AvgPP_Youth_Res, on='Secondary Key',how='left'\n",
    "    ).merge(AvgPP_Youth_NonRes, on='Secondary Key',how='left'\n",
    "    ).merge(AvgPP_LPP_U, on='Secondary Key',how='left'\n",
    "    ).merge(AvgPP_LPP_R, on='Secondary Key',how='left')\n",
    "\n",
    "#Sort by Hunt Code and Year, then reset index\n",
    "Average_PP_2.sort_values(by=['Hunt Code','Year'],ascending=True,inplace=True)\n",
    "Average_PP_2.reset_index(inplace=True,drop=True)\n",
    "\n",
    "#Output to Excel\n",
    "Average_PP_2.to_excel('Output-Data\\\\Average-Preference_Points.xlsx')"
   ]
  },
  {
   "attachments": {},
   "cell_type": "markdown",
   "metadata": {},
   "source": [
    "# Minimum Preference Points"
   ]
  },
  {
   "cell_type": "code",
   "execution_count": 19,
   "metadata": {},
   "outputs": [],
   "source": [
    "#Isolate output for final join\n",
    "Min_PP_1 = Draw_Data[['Hunt Code','Year','Secondary Key']].drop_duplicates('Secondary Key')\n",
    "\n",
    "def MinimumPoints(InputColumnName,OutputColumnName):\n",
    "    #Isolate columns of interest\n",
    "    df_1 = Draw_Data[['Preference Points',InputColumnName,'Secondary Key']].copy()\n",
    "\n",
    "    #Isolate Preference points that had a tag associated with them\n",
    "    df_2 = df_1.loc[df_1[InputColumnName] > 0]\n",
    " \n",
    "    #Obtain the weighted total and number of tags issued\n",
    "    df_3 = df_2.groupby('Secondary Key')['Preference Points'].min().reset_index().copy()\n",
    "\n",
    "    #Determine the weighted average\n",
    "    df_3[OutputColumnName] = df_3['Preference Points']\n",
    "\n",
    "    #Isolate columns of interest\n",
    "    OutputDF = df_3[['Secondary Key',OutputColumnName]]\n",
    "\n",
    "    # Return the output dataframe\n",
    "    return OutputDF\n",
    "\n",
    "# Call functions to find the weighted average of each classification\n",
    "MinPP_Adult_Res = MinimumPoints('D-Adult-Res','Adult-Res Min')\n",
    "MinPP_Adult_NonRes = MinimumPoints('D-Adult-NonRes','Adult-NonRes Min')\n",
    "MinPP_Youth_Res = MinimumPoints('D-Youth-Res','Youth-Res Min')\n",
    "MinPP_Youth_NonRes = MinimumPoints('D-Youth-NonRes','Youth-NonRes Min')\n",
    "MinPP_LPP_U = MinimumPoints('D-Landowner(LPP)-Unrestricted','LPP_U Min')\n",
    "MinPP_LPP_R = MinimumPoints('D-Landownder(LPP)-Restricted','LPP_R Min')\n",
    "\n",
    "\n",
    "#Merge the Adult Residents\n",
    "Min_PP_2 = Min_PP_1.merge(MinPP_Adult_Res, on='Secondary Key',how='left'\\\n",
    "    ).merge(MinPP_Adult_NonRes, on='Secondary Key',how='left'\n",
    "    ).merge(MinPP_Youth_Res, on='Secondary Key',how='left'\n",
    "    ).merge(MinPP_Youth_NonRes, on='Secondary Key',how='left'\n",
    "    ).merge(MinPP_LPP_U, on='Secondary Key',how='left'\n",
    "    ).merge(MinPP_LPP_R, on='Secondary Key',how='left')\n",
    "\n",
    "#Sort by Hunt Code and Year, then reset index\n",
    "Min_PP_2.sort_values(by=['Hunt Code','Year'],ascending=True,inplace=True)\n",
    "Min_PP_2.reset_index(inplace=True,drop=True)\n",
    "\n",
    "#Output to Excel\n",
    "Min_PP_2.to_excel('Output-Data\\\\Minimum-Preference_Points.xlsx')"
   ]
  }
 ],
 "metadata": {
  "kernelspec": {
   "display_name": "base",
   "language": "python",
   "name": "python3"
  },
  "language_info": {
   "codemirror_mode": {
    "name": "ipython",
    "version": 3
   },
   "file_extension": ".py",
   "mimetype": "text/x-python",
   "name": "python",
   "nbconvert_exporter": "python",
   "pygments_lexer": "ipython3",
   "version": "3.9.12 (main, Apr  4 2022, 05:22:27) [MSC v.1916 64 bit (AMD64)]"
  },
  "orig_nbformat": 4,
  "vscode": {
   "interpreter": {
    "hash": "92eeafcbabfc37afade1f0f453883f240313697269fbef933ea65d1be2634430"
   }
  }
 },
 "nbformat": 4,
 "nbformat_minor": 2
}
