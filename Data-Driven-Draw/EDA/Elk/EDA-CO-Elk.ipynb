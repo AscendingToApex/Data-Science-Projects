{
 "cells": [
  {
   "cell_type": "markdown",
   "metadata": {},
   "source": [
    "## Colorado Elk Tag Application Exploratory Data Analysis"
   ]
  },
  {
   "cell_type": "markdown",
   "metadata": {},
   "source": [
    "### Packages"
   ]
  },
  {
   "cell_type": "code",
   "execution_count": 1,
   "metadata": {},
   "outputs": [],
   "source": [
    "import pandas as pd"
   ]
  },
  {
   "cell_type": "markdown",
   "metadata": {},
   "source": [
    "### Import Data"
   ]
  },
  {
   "cell_type": "code",
   "execution_count": 16,
   "metadata": {},
   "outputs": [],
   "source": [
    "Tags_Awarded_init = pd.read_excel('Input-Data//All-Total-Tags-Awarded.xlsx')\n",
    "App_Preference_init = pd.read_excel('Input-Data//Total-All-Applicant-Preference_Points.xlsx')\n",
    "Draw_Preference_init = pd.read_excel('Input-Data//Total-All-Draw-Preference_Points.xlsx')"
   ]
  },
  {
   "cell_type": "markdown",
   "metadata": {},
   "source": [
    "### Data Cleaning - Total Tags Awarded"
   ]
  },
  {
   "cell_type": "code",
   "execution_count": 19,
   "metadata": {},
   "outputs": [
    {
     "data": {
      "text/html": [
       "<div>\n",
       "<style scoped>\n",
       "    .dataframe tbody tr th:only-of-type {\n",
       "        vertical-align: middle;\n",
       "    }\n",
       "\n",
       "    .dataframe tbody tr th {\n",
       "        vertical-align: top;\n",
       "    }\n",
       "\n",
       "    .dataframe thead th {\n",
       "        text-align: right;\n",
       "    }\n",
       "</style>\n",
       "<table border=\"1\" class=\"dataframe\">\n",
       "  <thead>\n",
       "    <tr style=\"text-align: right;\">\n",
       "      <th></th>\n",
       "      <th>Unnamed: 0.1</th>\n",
       "      <th>Unnamed: 0</th>\n",
       "      <th>Preference Points</th>\n",
       "      <th>D-Adult-Res</th>\n",
       "      <th>D-Adult-NonRes</th>\n",
       "      <th>D-Youth-Res</th>\n",
       "      <th>D-Youth-NonRes</th>\n",
       "      <th>D-Landowner(LPP)-Unrestricted</th>\n",
       "      <th>D-Landownder(LPP)-Restricted</th>\n",
       "      <th>Choice</th>\n",
       "      <th>Hunt Code</th>\n",
       "      <th>Year</th>\n",
       "      <th>Hunt Key</th>\n",
       "    </tr>\n",
       "  </thead>\n",
       "  <tbody>\n",
       "    <tr>\n",
       "      <th>0</th>\n",
       "      <td>0</td>\n",
       "      <td>0</td>\n",
       "      <td>22</td>\n",
       "      <td>0</td>\n",
       "      <td>1</td>\n",
       "      <td>0</td>\n",
       "      <td>0</td>\n",
       "      <td>0</td>\n",
       "      <td>0</td>\n",
       "      <td>1</td>\n",
       "      <td>EE001E1R</td>\n",
       "      <td>2015</td>\n",
       "      <td>EE001E1R-2015-22</td>\n",
       "    </tr>\n",
       "    <tr>\n",
       "      <th>1</th>\n",
       "      <td>1</td>\n",
       "      <td>1</td>\n",
       "      <td>21</td>\n",
       "      <td>0</td>\n",
       "      <td>0</td>\n",
       "      <td>0</td>\n",
       "      <td>0</td>\n",
       "      <td>0</td>\n",
       "      <td>0</td>\n",
       "      <td>1</td>\n",
       "      <td>EE001E1R</td>\n",
       "      <td>2015</td>\n",
       "      <td>EE001E1R-2015-21</td>\n",
       "    </tr>\n",
       "    <tr>\n",
       "      <th>2</th>\n",
       "      <td>2</td>\n",
       "      <td>2</td>\n",
       "      <td>20</td>\n",
       "      <td>0</td>\n",
       "      <td>0</td>\n",
       "      <td>0</td>\n",
       "      <td>0</td>\n",
       "      <td>0</td>\n",
       "      <td>0</td>\n",
       "      <td>1</td>\n",
       "      <td>EE001E1R</td>\n",
       "      <td>2015</td>\n",
       "      <td>EE001E1R-2015-20</td>\n",
       "    </tr>\n",
       "    <tr>\n",
       "      <th>3</th>\n",
       "      <td>3</td>\n",
       "      <td>3</td>\n",
       "      <td>19</td>\n",
       "      <td>0</td>\n",
       "      <td>0</td>\n",
       "      <td>0</td>\n",
       "      <td>0</td>\n",
       "      <td>0</td>\n",
       "      <td>0</td>\n",
       "      <td>1</td>\n",
       "      <td>EE001E1R</td>\n",
       "      <td>2015</td>\n",
       "      <td>EE001E1R-2015-19</td>\n",
       "    </tr>\n",
       "    <tr>\n",
       "      <th>4</th>\n",
       "      <td>4</td>\n",
       "      <td>4</td>\n",
       "      <td>18</td>\n",
       "      <td>0</td>\n",
       "      <td>0</td>\n",
       "      <td>0</td>\n",
       "      <td>0</td>\n",
       "      <td>0</td>\n",
       "      <td>0</td>\n",
       "      <td>1</td>\n",
       "      <td>EE001E1R</td>\n",
       "      <td>2015</td>\n",
       "      <td>EE001E1R-2015-18</td>\n",
       "    </tr>\n",
       "  </tbody>\n",
       "</table>\n",
       "</div>"
      ],
      "text/plain": [
       "   Unnamed: 0.1  Unnamed: 0  Preference Points  D-Adult-Res  D-Adult-NonRes  \\\n",
       "0             0           0                 22            0               1   \n",
       "1             1           1                 21            0               0   \n",
       "2             2           2                 20            0               0   \n",
       "3             3           3                 19            0               0   \n",
       "4             4           4                 18            0               0   \n",
       "\n",
       "   D-Youth-Res  D-Youth-NonRes  D-Landowner(LPP)-Unrestricted  \\\n",
       "0            0               0                              0   \n",
       "1            0               0                              0   \n",
       "2            0               0                              0   \n",
       "3            0               0                              0   \n",
       "4            0               0                              0   \n",
       "\n",
       "   D-Landownder(LPP)-Restricted  Choice Hunt Code  Year          Hunt Key  \n",
       "0                             0       1  EE001E1R  2015  EE001E1R-2015-22  \n",
       "1                             0       1  EE001E1R  2015  EE001E1R-2015-21  \n",
       "2                             0       1  EE001E1R  2015  EE001E1R-2015-20  \n",
       "3                             0       1  EE001E1R  2015  EE001E1R-2015-19  \n",
       "4                             0       1  EE001E1R  2015  EE001E1R-2015-18  "
      ]
     },
     "execution_count": 19,
     "metadata": {},
     "output_type": "execute_result"
    }
   ],
   "source": [
    "Draw_Preference_init.head()"
   ]
  },
  {
   "cell_type": "code",
   "execution_count": 21,
   "metadata": {},
   "outputs": [
    {
     "data": {
      "text/html": [
       "<div>\n",
       "<style scoped>\n",
       "    .dataframe tbody tr th:only-of-type {\n",
       "        vertical-align: middle;\n",
       "    }\n",
       "\n",
       "    .dataframe tbody tr th {\n",
       "        vertical-align: top;\n",
       "    }\n",
       "\n",
       "    .dataframe thead th {\n",
       "        text-align: right;\n",
       "    }\n",
       "</style>\n",
       "<table border=\"1\" class=\"dataframe\">\n",
       "  <thead>\n",
       "    <tr style=\"text-align: right;\">\n",
       "      <th></th>\n",
       "      <th>Hunt Key</th>\n",
       "      <th>Hunt Code</th>\n",
       "      <th>Year</th>\n",
       "      <th>Choice</th>\n",
       "      <th>Preference Points</th>\n",
       "      <th>D-Adult-Res</th>\n",
       "      <th>D-Adult-NonRes</th>\n",
       "      <th>D-Youth-Res</th>\n",
       "      <th>D-Youth-NonRes</th>\n",
       "      <th>D-Landowner(LPP)-Unrestricted</th>\n",
       "      <th>D-Landownder(LPP)-Restricted</th>\n",
       "    </tr>\n",
       "  </thead>\n",
       "  <tbody>\n",
       "    <tr>\n",
       "      <th>0</th>\n",
       "      <td>EE001E1R-2015-22</td>\n",
       "      <td>EE001E1R</td>\n",
       "      <td>2015</td>\n",
       "      <td>1</td>\n",
       "      <td>22</td>\n",
       "      <td>0</td>\n",
       "      <td>1</td>\n",
       "      <td>0</td>\n",
       "      <td>0</td>\n",
       "      <td>0</td>\n",
       "      <td>0</td>\n",
       "    </tr>\n",
       "    <tr>\n",
       "      <th>1</th>\n",
       "      <td>EE001E1R-2015-21</td>\n",
       "      <td>EE001E1R</td>\n",
       "      <td>2015</td>\n",
       "      <td>1</td>\n",
       "      <td>21</td>\n",
       "      <td>0</td>\n",
       "      <td>0</td>\n",
       "      <td>0</td>\n",
       "      <td>0</td>\n",
       "      <td>0</td>\n",
       "      <td>0</td>\n",
       "    </tr>\n",
       "    <tr>\n",
       "      <th>2</th>\n",
       "      <td>EE001E1R-2015-20</td>\n",
       "      <td>EE001E1R</td>\n",
       "      <td>2015</td>\n",
       "      <td>1</td>\n",
       "      <td>20</td>\n",
       "      <td>0</td>\n",
       "      <td>0</td>\n",
       "      <td>0</td>\n",
       "      <td>0</td>\n",
       "      <td>0</td>\n",
       "      <td>0</td>\n",
       "    </tr>\n",
       "    <tr>\n",
       "      <th>3</th>\n",
       "      <td>EE001E1R-2015-19</td>\n",
       "      <td>EE001E1R</td>\n",
       "      <td>2015</td>\n",
       "      <td>1</td>\n",
       "      <td>19</td>\n",
       "      <td>0</td>\n",
       "      <td>0</td>\n",
       "      <td>0</td>\n",
       "      <td>0</td>\n",
       "      <td>0</td>\n",
       "      <td>0</td>\n",
       "    </tr>\n",
       "    <tr>\n",
       "      <th>4</th>\n",
       "      <td>EE001E1R-2015-18</td>\n",
       "      <td>EE001E1R</td>\n",
       "      <td>2015</td>\n",
       "      <td>1</td>\n",
       "      <td>18</td>\n",
       "      <td>0</td>\n",
       "      <td>0</td>\n",
       "      <td>0</td>\n",
       "      <td>0</td>\n",
       "      <td>0</td>\n",
       "      <td>0</td>\n",
       "    </tr>\n",
       "  </tbody>\n",
       "</table>\n",
       "</div>"
      ],
      "text/plain": [
       "           Hunt Key Hunt Code  Year  Choice  Preference Points  D-Adult-Res  \\\n",
       "0  EE001E1R-2015-22  EE001E1R  2015       1                 22            0   \n",
       "1  EE001E1R-2015-21  EE001E1R  2015       1                 21            0   \n",
       "2  EE001E1R-2015-20  EE001E1R  2015       1                 20            0   \n",
       "3  EE001E1R-2015-19  EE001E1R  2015       1                 19            0   \n",
       "4  EE001E1R-2015-18  EE001E1R  2015       1                 18            0   \n",
       "\n",
       "   D-Adult-NonRes  D-Youth-Res  D-Youth-NonRes  D-Landowner(LPP)-Unrestricted  \\\n",
       "0               1            0               0                              0   \n",
       "1               0            0               0                              0   \n",
       "2               0            0               0                              0   \n",
       "3               0            0               0                              0   \n",
       "4               0            0               0                              0   \n",
       "\n",
       "   D-Landownder(LPP)-Restricted  \n",
       "0                             0  \n",
       "1                             0  \n",
       "2                             0  \n",
       "3                             0  \n",
       "4                             0  "
      ]
     },
     "execution_count": 21,
     "metadata": {},
     "output_type": "execute_result"
    }
   ],
   "source": [
    "Draw_Preference = Draw_Preference_init[['Hunt Key','Hunt Code','Year','Choice','Preference Points' \\\n",
    "    ,'D-Adult-Res','D-Adult-NonRes','D-Youth-Res','D-Youth-NonRes'\n",
    "    ,'D-Landowner(LPP)-Unrestricted','D-Landownder(LPP)-Restricted']]\n",
    "\n",
    "Draw_Preference.head()"
   ]
  },
  {
   "cell_type": "code",
   "execution_count": 51,
   "metadata": {},
   "outputs": [
    {
     "ename": "KeyError",
     "evalue": "'Adult-NonRes'",
     "output_type": "error",
     "traceback": [
      "\u001b[1;31m---------------------------------------------------------------------------\u001b[0m",
      "\u001b[1;31mKeyError\u001b[0m                                  Traceback (most recent call last)",
      "\u001b[1;32mc:\\Users\\clanc\\OneDrive\\Documents\\Computer Science\\Data Science\\Data-Science-Projects\\Data-Driven-Draw\\EDA\\Elk\\EDA-CO-Elk.ipynb Cell 9\u001b[0m in \u001b[0;36m<cell line: 3>\u001b[1;34m()\u001b[0m\n\u001b[0;32m     <a href='vscode-notebook-cell:/c%3A/Users/clanc/OneDrive/Documents/Computer%20Science/Data%20Science/Data-Science-Projects/Data-Driven-Draw/EDA/Elk/EDA-CO-Elk.ipynb#X11sZmlsZQ%3D%3D?line=10'>11</a>\u001b[0m \u001b[39mif\u001b[39;00m Draw_Preference\u001b[39m.\u001b[39miloc[i,\u001b[39m5\u001b[39m] \u001b[39m!=\u001b[39m \u001b[39m0\u001b[39m \u001b[39mand\u001b[39;00m Min_Pts_Dict[dict_key][\u001b[39m'\u001b[39m\u001b[39mAdult-Res\u001b[39m\u001b[39m'\u001b[39m] \u001b[39m>\u001b[39m Draw_Preference\u001b[39m.\u001b[39miloc[i,\u001b[39m4\u001b[39m]:\n\u001b[0;32m     <a href='vscode-notebook-cell:/c%3A/Users/clanc/OneDrive/Documents/Computer%20Science/Data%20Science/Data-Science-Projects/Data-Driven-Draw/EDA/Elk/EDA-CO-Elk.ipynb#X11sZmlsZQ%3D%3D?line=11'>12</a>\u001b[0m     Min_Pts_Dict[dict_key][\u001b[39m'\u001b[39m\u001b[39mAdult-Res\u001b[39m\u001b[39m'\u001b[39m] \u001b[39m=\u001b[39m Draw_Preference\u001b[39m.\u001b[39miloc[i,\u001b[39m4\u001b[39m]\n\u001b[1;32m---> <a href='vscode-notebook-cell:/c%3A/Users/clanc/OneDrive/Documents/Computer%20Science/Data%20Science/Data-Science-Projects/Data-Driven-Draw/EDA/Elk/EDA-CO-Elk.ipynb#X11sZmlsZQ%3D%3D?line=13'>14</a>\u001b[0m \u001b[39mif\u001b[39;00m Draw_Preference\u001b[39m.\u001b[39miloc[i,\u001b[39m6\u001b[39m] \u001b[39m!=\u001b[39m \u001b[39m0\u001b[39m \u001b[39mand\u001b[39;00m Min_Pts_Dict[dict_key][\u001b[39m'\u001b[39;49m\u001b[39mAdult-NonRes\u001b[39;49m\u001b[39m'\u001b[39;49m] \u001b[39m>\u001b[39m Draw_Preference\u001b[39m.\u001b[39miloc[i,\u001b[39m4\u001b[39m]:\n\u001b[0;32m     <a href='vscode-notebook-cell:/c%3A/Users/clanc/OneDrive/Documents/Computer%20Science/Data%20Science/Data-Science-Projects/Data-Driven-Draw/EDA/Elk/EDA-CO-Elk.ipynb#X11sZmlsZQ%3D%3D?line=14'>15</a>\u001b[0m     Min_Pts_Dict[dict_key][\u001b[39m'\u001b[39m\u001b[39mAdult-NonRes\u001b[39m\u001b[39m'\u001b[39m] \u001b[39m=\u001b[39m Draw_Preference\u001b[39m.\u001b[39miloc[i,\u001b[39m4\u001b[39m]\n",
      "\u001b[1;31mKeyError\u001b[0m: 'Adult-NonRes'"
     ]
    }
   ],
   "source": [
    "Min_Pts_Dict = {}\n",
    "\n",
    "for i in range(0,5): #len(Draw_Preference)):\n",
    "    Hunt_Code = Draw_Preference.iloc[i,1]\n",
    "    Year = Draw_Preference.iloc[i,2]\n",
    "    dict_key = Hunt_Code+'-'+str(Year)\n",
    "\n",
    "    if dict_key not in Min_Pts_Dict:\n",
    "        Min_Pts_Dict[dict_key] = {}\n",
    "\n",
    "    if Draw_Preference.iloc[i,5] != 0 and Min_Pts_Dict[dict_key]['Adult-Res'] > Draw_Preference.iloc[i,4]:\n",
    "        Min_Pts_Dict[dict_key]['Adult-Res'] = Draw_Preference.iloc[i,4]\n",
    "    \n",
    "    if Draw_Preference.iloc[i,6] != 0 and Min_Pts_Dict[dict_key]['Adult-NonRes'] > Draw_Preference.iloc[i,4]:\n",
    "        Min_Pts_Dict[dict_key]['Adult-NonRes'] = Draw_Preference.iloc[i,4]\n"
   ]
  },
  {
   "cell_type": "code",
   "execution_count": 47,
   "metadata": {},
   "outputs": [
    {
     "data": {
      "text/plain": [
       "{'EE001E1R-2015': {}}"
      ]
     },
     "execution_count": 47,
     "metadata": {},
     "output_type": "execute_result"
    }
   ],
   "source": [
    "Min_Pts_Dict"
   ]
  },
  {
   "cell_type": "code",
   "execution_count": 43,
   "metadata": {},
   "outputs": [],
   "source": [
    "Min_Pts_Dict[dict_key]['Adult-NonRes'] = Draw_Preference.iloc[0,4]"
   ]
  },
  {
   "cell_type": "code",
   "execution_count": 38,
   "metadata": {},
   "outputs": [
    {
     "data": {
      "text/plain": [
       "1"
      ]
     },
     "execution_count": 38,
     "metadata": {},
     "output_type": "execute_result"
    }
   ],
   "source": [
    "Draw_Preference.iloc[0,6]"
   ]
  }
 ],
 "metadata": {
  "kernelspec": {
   "display_name": "Python 3.9.12 ('base')",
   "language": "python",
   "name": "python3"
  },
  "language_info": {
   "codemirror_mode": {
    "name": "ipython",
    "version": 3
   },
   "file_extension": ".py",
   "mimetype": "text/x-python",
   "name": "python",
   "nbconvert_exporter": "python",
   "pygments_lexer": "ipython3",
   "version": "3.9.12"
  },
  "orig_nbformat": 4,
  "vscode": {
   "interpreter": {
    "hash": "92eeafcbabfc37afade1f0f453883f240313697269fbef933ea65d1be2634430"
   }
  }
 },
 "nbformat": 4,
 "nbformat_minor": 2
}
