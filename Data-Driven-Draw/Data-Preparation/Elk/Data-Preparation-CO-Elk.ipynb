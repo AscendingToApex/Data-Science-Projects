{
 "cells": [
  {
   "cell_type": "markdown",
   "metadata": {},
   "source": [
    "## Colorado Elk Tag Application Data Preparation"
   ]
  },
  {
   "cell_type": "code",
   "execution_count": 1,
   "metadata": {},
   "outputs": [],
   "source": [
    "import pandas as pd\n",
    "import os"
   ]
  },
  {
   "cell_type": "markdown",
   "metadata": {},
   "source": [
    "### Cleaning up data types and Choice column for applicants"
   ]
  },
  {
   "cell_type": "code",
   "execution_count": 7,
   "metadata": {},
   "outputs": [],
   "source": [
    "directory = 'Input-Data\\\\Applicant-Data\\\\'\n",
    "    \n",
    "for file in os.listdir(directory):\n",
    "     filename = os.fsdecode(file)\n",
    "     if filename.endswith(\".xlsx\"):\n",
    "      df = pd.read_excel(directory+file)\n",
    "\n",
    "      df = df.replace(\"-\",0)\n",
    "\n",
    "      convert_dict ={'Preference Points':int\n",
    "      ,'A-Adult-Res':int\n",
    "      ,'A-Adult-NonRes':int\n",
    "      ,'A-Youth-Res':int\n",
    "      ,'A-Youth-NonRes':int\n",
    "      ,'A-Landowner(LPP)-Unrestricted':int\n",
    "      ,'A-Landownder(LPP)-Restricted':int}\n",
    "\n",
    "      df= df.astype(convert_dict)\n",
    "\n",
    "      Choice = 1\n",
    "      for i in range (1,len(df)):\n",
    "         if df.iloc[i,9] == df.iloc[i-1,9]:\n",
    "            if df.iloc[i,0] == df.iloc[i-1,0]+1:\n",
    "               df.iloc[i,8] = Choice\n",
    "            else:\n",
    "               Choice +=1\n",
    "               df.iloc[i,8] = Choice\n",
    "         else:\n",
    "            Choice = 1\n",
    "            df.iloc[i,8] = Choice\n",
    "\n",
    "      df['Choice']=df['Choice'].fillna(0).astype(int)\n",
    "\n",
    "      del df[df.columns[0]]\n",
    "\n",
    "      output_df  = df.loc[df['Choice']==1]\n",
    "\n",
    "      output_df.to_excel('Output-Data\\\\Applicant-Data\\\\'+filename)\n",
    "\n",
    "      continue\n",
    "     else:\n",
    "      continue"
   ]
  },
  {
   "cell_type": "markdown",
   "metadata": {},
   "source": [
    "### Cleaning up data types and Choice column for Draws"
   ]
  },
  {
   "cell_type": "code",
   "execution_count": 8,
   "metadata": {},
   "outputs": [],
   "source": [
    "directory = 'Input-Data\\\\Draw-Data\\\\'\n",
    "    \n",
    "for file in os.listdir(directory):\n",
    "     filename = os.fsdecode(file)\n",
    "     if filename.endswith(\".xlsx\"):\n",
    "      df = pd.read_excel(directory+file)\n",
    "\n",
    "      df = df.replace(\"-\",0)\n",
    "\n",
    "      convert_dict ={'Preference Points':int\n",
    "      ,'D-Adult-Res':int\n",
    "      ,'D-Adult-NonRes':int\n",
    "      ,'D-Youth-Res':int\n",
    "      ,'D-Youth-NonRes':int\n",
    "      ,'D-Landowner(LPP)-Unrestricted':int\n",
    "      ,'D-Landownder(LPP)-Restricted':int}\n",
    "\n",
    "      df= df.astype(convert_dict)\n",
    "\n",
    "      Choice = 1\n",
    "      for i in range (1,len(df)):\n",
    "         if df.iloc[i,9] == df.iloc[i-1,9]:\n",
    "            if df.iloc[i,0] == df.iloc[i-1,0]+1:\n",
    "               df.iloc[i,8] = Choice\n",
    "            else:\n",
    "               Choice +=1\n",
    "               df.iloc[i,8] = Choice\n",
    "         else:\n",
    "            Choice = 1\n",
    "            df.iloc[i,8] = Choice\n",
    "\n",
    "      df['Choice']=df['Choice'].fillna(0).astype(int)\n",
    "\n",
    "      del df[df.columns[0]]\n",
    "\n",
    "      output_df  = df.loc[df['Choice']==1]\n",
    "\n",
    "      output_df.to_excel('Output-Data\\\\Draw-Data\\\\'+filename)\n",
    "\n",
    "      continue\n",
    "     else:\n",
    "      continue"
   ]
  }
 ],
 "metadata": {
  "kernelspec": {
   "display_name": "Python 3.9.12 ('base')",
   "language": "python",
   "name": "python3"
  },
  "language_info": {
   "codemirror_mode": {
    "name": "ipython",
    "version": 3
   },
   "file_extension": ".py",
   "mimetype": "text/x-python",
   "name": "python",
   "nbconvert_exporter": "python",
   "pygments_lexer": "ipython3",
   "version": "3.9.12"
  },
  "orig_nbformat": 4,
  "vscode": {
   "interpreter": {
    "hash": "92eeafcbabfc37afade1f0f453883f240313697269fbef933ea65d1be2634430"
   }
  }
 },
 "nbformat": 4,
 "nbformat_minor": 2
}
