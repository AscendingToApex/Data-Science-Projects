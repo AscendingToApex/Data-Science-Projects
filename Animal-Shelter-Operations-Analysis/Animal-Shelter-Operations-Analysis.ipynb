{
 "cells": [
  {
   "cell_type": "markdown",
   "metadata": {},
   "source": [
    "## Thumbnail Ideas\n",
    "## Story\n",
    "## Interesting Business Questions\n",
    "* Average time in shelter? (Answered)\n",
    "* Average time in shelter by animal type? (Answered)\n",
    "* Average time in shelter by age? (Answered)\n",
    "* What time / day of week is shelter most busy? (Answered)\n",
    "* What month has the most intakes/outakes? (Answered)\n",
    "* How old are the animals when they are donated?\n",
    "* How are the intakes happening?\n",
    "* Does color play a role?\n",
    "* Does breed play a role?\n",
    "* More dogs or cats? (Answered)\n",
    "* Do dogs get adopted the fastest?\n",
    "* How many animals are donated a day? (Answered)\n",
    "\n",
    "# Useful Resources / Linkes"
   ]
  },
  {
   "cell_type": "code",
   "execution_count": null,
   "metadata": {},
   "outputs": [],
   "source": [
    "# Home page (with main ideas)"
   ]
  },
  {
   "cell_type": "code",
   "execution_count": null,
   "metadata": {},
   "outputs": [],
   "source": [
    "# Schedule / Calandar (When stuff happens)"
   ]
  },
  {
   "cell_type": "code",
   "execution_count": null,
   "metadata": {},
   "outputs": [],
   "source": [
    "# How much time the animal spent in the shelter"
   ]
  }
 ],
 "metadata": {
  "kernelspec": {
   "display_name": "Python 3.9.12 ('base')",
   "language": "python",
   "name": "python3"
  },
  "language_info": {
   "name": "python",
   "version": "3.9.12"
  },
  "orig_nbformat": 4,
  "vscode": {
   "interpreter": {
    "hash": "92eeafcbabfc37afade1f0f453883f240313697269fbef933ea65d1be2634430"
   }
  }
 },
 "nbformat": 4,
 "nbformat_minor": 2
}
